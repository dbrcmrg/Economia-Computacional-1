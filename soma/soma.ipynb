{
 "cells": [
  {
   "cell_type": "markdown",
   "id": "a233b935-9e9f-435e-aa1c-caa9f6a11419",
   "metadata": {},
   "source": [
    "# Codificação do programa soma\n",
    "\n",
    "## Requisitos\n",
    "O problema em questão é desenvolver um programa que leia números inteiros digitados pelo usuário e ponha na tela a soma deles."
   ]
  },
  {
   "cell_type": "code",
   "execution_count": 11,
   "id": "e3de841f-600b-4bb3-8736-36e918f82b54",
   "metadata": {},
   "outputs": [
    {
     "name": "stdin",
     "output_type": "stream",
     "text": [
      "Qual é o primeiro número? 5\n",
      "Qual é o segundo número? 3\n"
     ]
    },
    {
     "name": "stdout",
     "output_type": "stream",
     "text": [
      "8\n"
     ]
    }
   ],
   "source": [
    "# Alocação de memória\n",
    "numero_1: int = 0\n",
    "numero_2: int = 0\n",
    "soma: int = 0\n",
    "\n",
    "# Entrada de dados\n",
    "numero_1 = int(input(\"Qual é o primeiro número?\"))\n",
    "numero_2 = int(input(\"Qual é o segundo número?\"))\n",
    "\n",
    "# Processamento de dados\n",
    "soma = numero_1 + numero_2\n",
    "\n",
    "# Saída de dados\n",
    "print(soma)"
   ]
  },
  {
   "cell_type": "code",
   "execution_count": 17,
   "id": "9cdf4f52-e2a8-4a13-802f-e02ca055b551",
   "metadata": {},
   "outputs": [
    {
     "name": "stdin",
     "output_type": "stream",
     "text": [
      "Digite a parcela 1:  5\n",
      "Digite a parcela 2:  4\n"
     ]
    },
    {
     "name": "stdout",
     "output_type": "stream",
     "text": [
      "A soma dos números digitados é igual a 9. \n"
     ]
    }
   ],
   "source": [
    "# Alocação de memória\n",
    "i: int = 0\n",
    "numero: int = 0\n",
    "soma: int = 0\n",
    "\n",
    "# Entrada de dados\n",
    "while i < 2:\n",
    "    numero = int(input(f\"Digite a parcela {i+1}: \"))\n",
    "    soma = soma + numero\n",
    "    i+=1\n",
    "\n",
    "# Saída de dados\n",
    "print(f'A soma dos números digitados é igual a {soma}. ')"
   ]
  },
  {
   "cell_type": "code",
   "execution_count": null,
   "id": "cbfef377-cb7c-423c-ab18-343e4b04b4d0",
   "metadata": {},
   "outputs": [],
   "source": []
  }
 ],
 "metadata": {
  "kernelspec": {
   "display_name": "Python 3 (ipykernel)",
   "language": "python",
   "name": "python3"
  },
  "language_info": {
   "codemirror_mode": {
    "name": "ipython",
    "version": 3
   },
   "file_extension": ".py",
   "mimetype": "text/x-python",
   "name": "python",
   "nbconvert_exporter": "python",
   "pygments_lexer": "ipython3",
   "version": "3.12.3"
  }
 },
 "nbformat": 4,
 "nbformat_minor": 5
}
