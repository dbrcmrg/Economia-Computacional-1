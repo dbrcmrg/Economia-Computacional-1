{
 "cells": [
  {
   "cell_type": "markdown",
   "id": "95455275-0155-49f6-8494-7f2cd0285269",
   "metadata": {},
   "source": [
    "# Programa Conversor de distâncias\n",
    "\n",
    "Executável: conv_dist.py"
   ]
  },
  {
   "cell_type": "markdown",
   "id": "c890703e-909d-4bed-ba1a-bfd4e3ba50df",
   "metadata": {},
   "source": [
    "## Problema\n",
    "Fazer um programa que leia um valor em metros e o converta para milímetros."
   ]
  },
  {
   "cell_type": "markdown",
   "id": "2497ec19-e21d-409e-ac9e-d8a0aafdd5e1",
   "metadata": {},
   "source": [
    "# Projeto\n",
    "\n",
    "Vou usar a conversão de metros para milímetros, multiplicando por 1000 cada unidade de metro."
   ]
  },
  {
   "cell_type": "code",
   "execution_count": 6,
   "id": "1410efcf-6a08-4597-a8a4-dd961cbd7bc8",
   "metadata": {},
   "outputs": [],
   "source": [
    "# Alocação de memória\n",
    "metros: float =  0\n",
    "milímetros: float = 0\n"
   ]
  },
  {
   "cell_type": "code",
   "execution_count": 14,
   "id": "cf3ce07d-ade5-4e0c-8be5-7f9dcf15cc3c",
   "metadata": {},
   "outputs": [
    {
     "name": "stdin",
     "output_type": "stream",
     "text": [
      "Digite a distância em metros:  1732.6\n"
     ]
    }
   ],
   "source": [
    "# Entrada de dados\n",
    "\n",
    "metros = float(input(\"Digite a distância em metros: \"))"
   ]
  },
  {
   "cell_type": "code",
   "execution_count": 9,
   "id": "d85f8af2-87c2-490b-83c9-4818cd8a6a32",
   "metadata": {},
   "outputs": [],
   "source": [
    "# Processamento de dados\n",
    "milímetros = 1000 * metros"
   ]
  },
  {
   "cell_type": "code",
   "execution_count": 15,
   "id": "3188f7ca-ae2b-4368-9f77-a4697a3ed0c8",
   "metadata": {},
   "outputs": [
    {
     "name": "stdout",
     "output_type": "stream",
     "text": [
      "\n",
      "A distância em milímetros é igual a 1732600.0\n"
     ]
    }
   ],
   "source": [
    "# Saída de dados\n",
    "print(f'\\nA distância em milímetros é igual a {milímetros}')"
   ]
  },
  {
   "cell_type": "code",
   "execution_count": null,
   "id": "a1a6b728-6677-4b9c-b946-8cf2cfd36f3d",
   "metadata": {},
   "outputs": [],
   "source": []
  }
 ],
 "metadata": {
  "kernelspec": {
   "display_name": "Python 3 (ipykernel)",
   "language": "python",
   "name": "python3"
  },
  "language_info": {
   "codemirror_mode": {
    "name": "ipython",
    "version": 3
   },
   "file_extension": ".py",
   "mimetype": "text/x-python",
   "name": "python",
   "nbconvert_exporter": "python",
   "pygments_lexer": "ipython3",
   "version": "3.12.3"
  }
 },
 "nbformat": 4,
 "nbformat_minor": 5
}
