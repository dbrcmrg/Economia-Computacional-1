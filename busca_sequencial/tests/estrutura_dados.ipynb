{
 "cells": [
  {
   "cell_type": "markdown",
   "id": "5335bb9f-95ed-4aaf-ab69-8835a78f9946",
   "metadata": {},
   "source": [
    "# Estrutura de Dados"
   ]
  },
  {
   "cell_type": "markdown",
   "id": "e26766df-b1c7-4b0c-952e-22ce074e3c1e",
   "metadata": {},
   "source": [
    "## List"
   ]
  },
  {
   "cell_type": "markdown",
   "id": "75a0d026-e7df-4cf9-abfa-b559fa6b61c3",
   "metadata": {
    "jp-MarkdownHeadingCollapsed": true
   },
   "source": [
    "### Listas"
   ]
  },
  {
   "cell_type": "code",
   "execution_count": 1,
   "id": "ac0ea747-6d70-4c3c-8c06-a3ca8c06e85f",
   "metadata": {},
   "outputs": [],
   "source": [
    "# Listagem 1:\n",
    "\n",
    "## Alocação de memória\n",
    "a = [1, 'b', 2.3]"
   ]
  },
  {
   "cell_type": "code",
   "execution_count": 2,
   "id": "6c0a2f32-8461-4e0a-8373-9cda6b8f6a21",
   "metadata": {},
   "outputs": [
    {
     "name": "stdout",
     "output_type": "stream",
     "text": [
      "[1, 'b', 2.3]\n"
     ]
    }
   ],
   "source": [
    "# Saída de dados\n",
    "\n",
    "print(a)"
   ]
  },
  {
   "cell_type": "code",
   "execution_count": 3,
   "id": "7252ac8e-2948-4fac-b535-5dca3649504b",
   "metadata": {},
   "outputs": [
    {
     "name": "stdout",
     "output_type": "stream",
     "text": [
      "1\n",
      "b\n",
      "2.3\n"
     ]
    },
    {
     "ename": "IndexError",
     "evalue": "list index out of range",
     "output_type": "error",
     "traceback": [
      "\u001b[1;31m---------------------------------------------------------------------------\u001b[0m",
      "\u001b[1;31mIndexError\u001b[0m                                Traceback (most recent call last)",
      "Cell \u001b[1;32mIn[3], line 6\u001b[0m\n\u001b[0;32m      4\u001b[0m \u001b[38;5;28mprint\u001b[39m(a[\u001b[38;5;241m1\u001b[39m])\n\u001b[0;32m      5\u001b[0m \u001b[38;5;28mprint\u001b[39m(a[\u001b[38;5;241m2\u001b[39m])\n\u001b[1;32m----> 6\u001b[0m \u001b[38;5;28mprint\u001b[39m(\u001b[43ma\u001b[49m\u001b[43m[\u001b[49m\u001b[38;5;241;43m3\u001b[39;49m\u001b[43m]\u001b[49m)\n",
      "\u001b[1;31mIndexError\u001b[0m: list index out of range"
     ]
    }
   ],
   "source": [
    "# Acessando os elementos da lista\n",
    "\n",
    "print(a[0])\n",
    "print(a[1])\n",
    "print(a[2])\n",
    "print(a[3])"
   ]
  },
  {
   "cell_type": "code",
   "execution_count": 4,
   "id": "e35bb16b-c40f-4698-89ee-9947d7afba19",
   "metadata": {},
   "outputs": [
    {
     "name": "stdout",
     "output_type": "stream",
     "text": [
      "1\n",
      "b\n",
      "2.3\n"
     ]
    }
   ],
   "source": [
    "# Acessando os elementos da lista\n",
    "\n",
    "print(a[0])\n",
    "print(a[1])\n",
    "print(a[2])"
   ]
  },
  {
   "cell_type": "code",
   "execution_count": 5,
   "id": "867ebdbc-6a00-488c-8f4d-1b60eaf09fa9",
   "metadata": {},
   "outputs": [
    {
     "name": "stdout",
     "output_type": "stream",
     "text": [
      "[2, 'b', 2.3]\n"
     ]
    }
   ],
   "source": [
    "# Modificando elementos da lista\n",
    "\n",
    "a[0] = 2\n",
    "print(a)"
   ]
  },
  {
   "cell_type": "markdown",
   "id": "3d32b41f-5b8b-45d5-933b-1c46c5622a33",
   "metadata": {
    "jp-MarkdownHeadingCollapsed": true
   },
   "source": [
    "### Operações com listas"
   ]
  },
  {
   "cell_type": "markdown",
   "id": "b515798c-0720-48a8-8760-2da0d8116d38",
   "metadata": {},
   "source": [
    "Alguns métodos:\n",
    "\n",
    "Buble sort\n",
    "\n",
    "Merge sort\n",
    "\n",
    "Quick sort"
   ]
  },
  {
   "cell_type": "code",
   "execution_count": 6,
   "id": "1268270f-c0d1-4dcf-91f3-b50e35968eae",
   "metadata": {},
   "outputs": [],
   "source": [
    "## Listagem 2: Ordenação de Listas\n",
    "\n",
    "# Alocação de memória (ou atribuição de variáveis)\n",
    "\n",
    "lista = [1, 5, 2, 87, 31]"
   ]
  },
  {
   "cell_type": "code",
   "execution_count": 13,
   "id": "450cce85-117b-4417-9d2b-75717de36d06",
   "metadata": {},
   "outputs": [
    {
     "name": "stdout",
     "output_type": "stream",
     "text": [
      "[1, 2, 5, 31, 87]\n"
     ]
    }
   ],
   "source": [
    "## Ordenação com a função sorted\n",
    "\n",
    "lista_ordenada_1 = sorted(lista) # sorted é uma função, o objeto continua original.\n",
    "print(lista_ordenada_1)"
   ]
  },
  {
   "cell_type": "code",
   "execution_count": 8,
   "id": "96044929-04f6-4798-9093-6e1b389d9c50",
   "metadata": {},
   "outputs": [
    {
     "name": "stdout",
     "output_type": "stream",
     "text": [
      "[1, 5, 2, 87, 31]\n"
     ]
    }
   ],
   "source": [
    "print(lista)"
   ]
  },
  {
   "cell_type": "code",
   "execution_count": 14,
   "id": "b43cea57-ddde-436c-8c9a-cbc0685a8b50",
   "metadata": {},
   "outputs": [
    {
     "name": "stdout",
     "output_type": "stream",
     "text": [
      "[1, 2, 5, 31, 87]\n"
     ]
    }
   ],
   "source": [
    "## Ordenação com o MÉTODO sort()\n",
    "\n",
    "lista.sort() # sort é um método, altera o objeto original.\n",
    "print(lista)"
   ]
  },
  {
   "cell_type": "code",
   "execution_count": 12,
   "id": "b95e3c46-f2e1-4d02-a7b7-509bbff15f63",
   "metadata": {},
   "outputs": [
    {
     "name": "stdout",
     "output_type": "stream",
     "text": [
      "[1, 2, 5, 31, 87]\n"
     ]
    }
   ],
   "source": [
    "print(lista)"
   ]
  },
  {
   "cell_type": "markdown",
   "id": "10293dfd-78f6-4f68-a1eb-174f0ba906b5",
   "metadata": {},
   "source": [
    "### Busca sequencial"
   ]
  },
  {
   "cell_type": "code",
   "execution_count": 17,
   "id": "6d7b65c8-94e8-4efd-b24c-5b90358a0f69",
   "metadata": {},
   "outputs": [],
   "source": [
    "# Base de dados de CPF\n",
    "\n",
    "base = [11,5,2,87,31]"
   ]
  },
  {
   "cell_type": "code",
   "execution_count": 20,
   "id": "32cd334a-514e-4dfb-b987-bb1296ed0805",
   "metadata": {},
   "outputs": [],
   "source": [
    "# Código do Programador\n",
    "\n",
    "## Alocação de memória\n",
    "\n",
    "lista = base\n",
    "achou = False\n",
    "posicao = 0\n",
    "cpf = 0"
   ]
  },
  {
   "cell_type": "code",
   "execution_count": 21,
   "id": "fe375d29-4603-4f40-8808-5f49ef9cc9f7",
   "metadata": {},
   "outputs": [
    {
     "name": "stdin",
     "output_type": "stream",
     "text": [
      "Digite o valor a procurar: 7\n"
     ]
    }
   ],
   "source": [
    "# leitura de dados\n",
    "\n",
    "cpf = int(input(\"Digite o valor a procurar:\"))"
   ]
  },
  {
   "cell_type": "code",
   "execution_count": 22,
   "id": "de4f537a-3b3b-4d4f-bcb9-93dae37f0c2b",
   "metadata": {},
   "outputs": [
    {
     "name": "stdout",
     "output_type": "stream",
     "text": [
      "7\n"
     ]
    }
   ],
   "source": [
    "print(cpf) # debug com print"
   ]
  },
  {
   "cell_type": "code",
   "execution_count": 24,
   "id": "39e25076-1d03-45e2-8933-8b36d6b1c6af",
   "metadata": {},
   "outputs": [],
   "source": [
    "# Processamento de dados\n",
    "\n",
    "while posicao < len(lista):\n",
    "    if lista[posicao] == cpf:\n",
    "        achou = True\n",
    "        break # interrompe a execução\n",
    "    posicao+=1 # é a mesma coisa que posicao = posicao + 1"
   ]
  },
  {
   "cell_type": "code",
   "execution_count": 26,
   "id": "b61b697e-67f5-445a-b6cd-7724ccea5855",
   "metadata": {},
   "outputs": [
    {
     "name": "stdout",
     "output_type": "stream",
     "text": [
      "\n",
      "O valor 7 não foi achado.\n"
     ]
    }
   ],
   "source": [
    "# Saída de dados\n",
    "\n",
    "if achou:\n",
    "    print(f'\\nO valor {cpf} foi achado na {posicao}.')\n",
    "else:\n",
    "    print(f'\\nO valor {cpf} não foi achado.')"
   ]
  },
  {
   "cell_type": "code",
   "execution_count": null,
   "id": "1b75917f-4284-4307-8d81-797e06a159b2",
   "metadata": {},
   "outputs": [],
   "source": []
  }
 ],
 "metadata": {
  "kernelspec": {
   "display_name": "Python 3 (ipykernel)",
   "language": "python",
   "name": "python3"
  },
  "language_info": {
   "codemirror_mode": {
    "name": "ipython",
    "version": 3
   },
   "file_extension": ".py",
   "mimetype": "text/x-python",
   "name": "python",
   "nbconvert_exporter": "python",
   "pygments_lexer": "ipython3",
   "version": "3.12.3"
  }
 },
 "nbformat": 4,
 "nbformat_minor": 5
}
